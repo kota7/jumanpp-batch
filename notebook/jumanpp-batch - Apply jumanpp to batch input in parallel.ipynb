{
 "cells": [
  {
   "cell_type": "markdown",
   "metadata": {},
   "source": [
    "jumanpp-batch\n",
    "=============\n",
    "\n",
    "\n",
    "**Apply JUMAN++ to batch input in parallel**\n",
    "<table align=\"left\"><tr>\n",
    "<td>\n",
    "  <a href=\"https://travis-ci.org/kota7/jumanpp-batch\">\n",
    "  <img src=\"https://travis-ci.org/kota7/jumanpp-batch.svg?branch=master\" alt=\"Travis-CI Status\">\n",
    "  </a>\n",
    "</td>\n",
    "<td>\n",
    "  <a href=\"https://badge.fury.io/py/jumanpp-batch\">\n",
    "  <img src=\"https://badge.fury.io/py/jumanpp-batch.svg\" alt=\"PyPI Status\">\n",
    "  </a>\n",
    "</td>\n",
    "</tr></table>\n",
    "\n"
   ]
  },
  {
   "cell_type": "markdown",
   "metadata": {},
   "source": [
    "This python package facilitates the usage of [juman++](http://nlp.ist.i.kyoto-u.ac.jp/index.php?JUMAN++) software by providing the functionalities to apply the command (1) to batch input (2) and in parallel.\n"
   ]
  },
  {
   "cell_type": "markdown",
   "metadata": {},
   "source": [
    "## Requirement\n",
    "\n",
    "- Python 2.7+, 3.4+\n",
    "- JUMAN++ 1.0.2, 2.0.0"
   ]
  },
  {
   "cell_type": "markdown",
   "metadata": {},
   "source": [
    "## Installation\n",
    "\n",
    "### JUMAN++\n",
    "\n",
    "#### Version 1\n",
    "\n",
    "Refer to the official document for the details ([Manual](http://lotus.kuee.kyoto-u.ac.jp/nl-resource/jumanpp/jumanpp-manual-1.01.pdf)).\n",
    "\n",
    "As of this writing, one can install the v1.0.2 by the following commands:\n",
    "\n",
    "```bash\n",
    "wget http://lotus.kuee.kyoto-u.ac.jp/nl-resource/jumanpp/jumanpp-1.02.tar.xz\n",
    "tar xJvf jumanpp-1.02.tar.xz\n",
    "cd jumanpp-1.02 && ./configure && make && sudo make install && ../\n",
    "```\n",
    "\n",
    "Test:\n",
    "\n",
    "```bash\n",
    "jumanpp -v\n",
    "#JUMAN++ 1.02 \n",
    "```\n",
    "\n",
    "```bash\n",
    "echo \"すもももももももものうち\" | jumanpp\n",
    "#すもも すもも すもも 名詞 6 普通名詞 1 * 0 * 0 \"代表表記:酸桃/すもも 自動獲得:EN_Wiktionary\"\n",
    "#@ すもも すもも すもも 名詞 6 普通名詞 1 * 0 * 0 \"自動獲得:テキスト\"\n",
    "#も も も 助詞 9 副助詞 2 * 0 * 0 NIL\n",
    "#もも もも もも 名詞 6 普通名詞 1 * 0 * 0 \"代表表記:股/もも カテゴリ:動物-部位\"\n",
    "#@ もも もも もも 名詞 6 普通名詞 1 * 0 * 0 \"代表表記:桃/もも 漢字読み:訓 カテゴリ:植物;人工物-食べ物 ドメイン:料理・食事\"\n",
    "#も も も 助詞 9 副助詞 2 * 0 * 0 NIL\n",
    "#もも もも もも 名詞 6 普通名詞 1 * 0 * 0 \"代表表記:股/もも カテゴリ:動物-部位\"\n",
    "#@ もも もも もも 名詞 6 普通名詞 1 * 0 * 0 \"代表表記:桃/もも 漢字読み:訓 カテゴリ:植物;人工物-食べ物 ドメイン:料理・食事\"\n",
    "#の の の 助詞 9 接続助詞 3 * 0 * 0 NIL\n",
    "#うち うち うち 名詞 6 副詞的名詞 9 * 0 * 0 \"代表表記:うち/うち\"\n",
    "#EOS\n",
    "```\n",
    "\n",
    "#### Version 2\n",
    "\n",
    "Recent versions of JUMAN++ can be installed by the following commands ([Official Repository](https://github.com/ku-nlp/jumanpp)):\n",
    "\n",
    "```bash\n",
    "VERSION=\"2.0.0-rc3\"\n",
    "wget https://github.com/ku-nlp/jumanpp/releases/download/v2.0.0-rc3/jumanpp-$VERSION.tar.xz\n",
    "tar xfv jumanpp-$VERSION.tar.xz && cd jumanpp-$VERSION\n",
    "mkdir bld && cd bld && \\\n",
    "  cmake .. -DCMAKE_BUILD_TYPE=Release -DCMAKE_INSTALL_PREFIX=\"$PWD\" && \\\n",
    "  make install\n",
    "```\n",
    "\n",
    "The following command let us use the version 2 by calling `jumanpp2`.\n",
    "Change `/user/local/bin` to any directory within the search path.\n",
    "\n",
    "```bash\n",
    "ln -s \"$PWD/bin/jumanpp\" /usr/local/bin/jumanpp2\n",
    "```\n",
    "\n",
    "Test:\n",
    "\n",
    "```bash\n",
    "jumanpp2 -v\n",
    "#uman++ Version: 2.0.0-rc3 / Dictionary: 20190731-356e143 / LM: K:20190430-7d143fb L:20181122-b409be68 F:20171214-9d125cb\n",
    "```\n",
    "\n",
    "```bash\n",
    "echo \"おめでとう🎉㊗️23歳かぁ〜若い〜✧\" | jumanpp2\n",
    "#おめでとう おめでとう おめでとう 感動詞 12 * 0 * 0 * 0 \"代表表記:おめでとう/おめでとう\"\n",
    "#🎉 🎉 🎉 特殊 1 記号 5 * 0 * 0 \"代表表記:🎉/* 絵文字種類:ACTIVITIES:EVENT 絵文字:PARTY_POPPER\"\n",
    "#㊗️ ㊗️ ㊗️ 特殊 1 記号 5 * 0 * 0 \"代表表記:㊗️/* 絵文字種類:SYMBOLS:ALPHANUM 絵文字:JAPANESE_CONGRATULATIONS_BUTTON\"\n",
    "#23 23 23 名詞 6 数詞 7 * 0 * 0 \"カテゴリ:数量 未知語:数字\"\n",
    "#歳 さい 歳 接尾辞 14 名詞性名詞助数辞 3 * 0 * 0 \"代表表記:歳/さい 準内容語\"\n",
    "#かぁ〜 か か 助詞 9 接続助詞 3 * 0 * 0 \"非標準表記:DPSL\"\n",
    "#若い わかい 若い 形容詞 3 * 0 イ形容詞アウオ段 18 基本形 2 \"代表表記:若い/わかい\"\n",
    "#〜 〜 〜 特殊 1 記号 5 * 0 * 0 NIL\n",
    "#✧ ✧ ✧ 未定義語 15 その他 1 * 0 * 0 \"未知語:その他 品詞推定:特殊\"\n",
    "#EOS\n",
    "```"
   ]
  },
  {
   "cell_type": "markdown",
   "metadata": {},
   "source": [
    "### jumanpp-batch library\n",
    "\n",
    "The library can be downloaded from the [PyPI](https://pypi.org/) repository.\n",
    "\n",
    "```bash\n",
    "pip install jumanpp-batch\n",
    "```\n",
    "\n",
    "Or install the development version from GitHub.\n",
    "```bash\n",
    "git clone https://github.com/kota7/jumanpp-batch.git\n",
    "pip install -U ./jumanpp-batch\n",
    "```"
   ]
  },
  {
   "cell_type": "code",
   "execution_count": 1,
   "metadata": {},
   "outputs": [
    {
     "name": "stdout",
     "output_type": "stream",
     "text": [
      "jumanpp-batch      0.1.2.dev0\r\n"
     ]
    }
   ],
   "source": [
    "# show the library version for running this notebook\n",
    "!pip list | grep juman"
   ]
  },
  {
   "cell_type": "markdown",
   "metadata": {},
   "source": [
    "## Quick use\n",
    "\n",
    "This library provides two main functions:\n",
    "\n",
    "- `jumanpp_batch`: Execute juman++ jobs and save the results to file(s)\n",
    "- `parse_outfiles`: Process the output files\n",
    "\n",
    "We first apply juman++ software with `jumanpp_batch`, then parse the outputs using `parse_outfiles`."
   ]
  },
  {
   "cell_type": "code",
   "execution_count": 2,
   "metadata": {},
   "outputs": [],
   "source": [
    "from jumanpp_batch import jumanpp_batch, parse_outfiles"
   ]
  },
  {
   "cell_type": "markdown",
   "metadata": {},
   "source": [
    "`jumanpp_batch` takes a list of strings to analyze by JUMAN++. \n",
    "The function returns the list of files where the results are saved."
   ]
  },
  {
   "cell_type": "code",
   "execution_count": 3,
   "metadata": {},
   "outputs": [
    {
     "name": "stdout",
     "output_type": "stream",
     "text": [
      "Completed: 0/3 (0.0%) | 0.0 per sec | ETC: ??? (??? remaining)\n",
      "All jos are completed.\n",
      "['results/simple_1.txt']\n"
     ]
    }
   ],
   "source": [
    "texts = [\"すもももももももものうち\", \"隣の客はよく柿食う客だ\", \"犬も歩けば棒に当たる\"]\n",
    "outfiles = jumanpp_batch(texts, outfile_base=\"results/simple_{}.txt\", show_progress=True)\n",
    "print(outfiles)"
   ]
  },
  {
   "cell_type": "code",
   "execution_count": 4,
   "metadata": {},
   "outputs": [
    {
     "name": "stdout",
     "output_type": "stream",
     "text": [
      "すもも すもも すもも 名詞 6 普通名詞 1 * 0 * 0 \"代表表記:酸桃/すもも 自動獲得:EN_Wiktionary\"\r\n",
      "@ すもも すもも すもも 名詞 6 普通名詞 1 * 0 * 0 \"自動獲得:テキスト\"\r\n",
      "も も も 助詞 9 副助詞 2 * 0 * 0 NIL\r\n",
      "もも もも もも 名詞 6 普通名詞 1 * 0 * 0 \"代表表記:股/もも カテゴリ:動物-部位\"\r\n",
      "@ もも もも もも 名詞 6 普通名詞 1 * 0 * 0 \"代表表記:桃/もも 漢字読み:訓 カテゴリ:植物;人工物-食べ物 ドメイン:料理・食事\"\r\n",
      "も も も 助詞 9 副助詞 2 * 0 * 0 NIL\r\n",
      "もも もも もも 名詞 6 普通名詞 1 * 0 * 0 \"代表表記:股/もも カテゴリ:動物-部位\"\r\n",
      "@ もも もも もも 名詞 6 普通名詞 1 * 0 * 0 \"代表表記:桃/もも 漢字読み:訓 カテゴリ:植物;人工物-食べ物 ドメイン:料理・食事\"\r\n",
      "の の の 助詞 9 接続助詞 3 * 0 * 0 NIL\r\n",
      "うち うち うち 名詞 6 副詞的名詞 9 * 0 * 0 \"代表表記:うち/うち\"\r\n",
      "EOS\r\n",
      "隣 となり 隣 名詞 6 普通名詞 1 * 0 * 0 \"代表表記:隣り/となり カテゴリ:場所-その他\"\r\n",
      "の の の 助詞 9 接続助詞 3 * 0 * 0 NIL\r\n",
      "客 きゃく 客 名詞 6 普通名詞 1 * 0 * 0 \"代表表記:客/きゃく 漢字読み:音 カテゴリ:人 ドメイン:家庭・暮らし;ビジネス\"\r\n",
      "は は は 助詞 9 副助詞 2 * 0 * 0 NIL\r\n",
      "よく よく よい 形容詞 3 * 0 イ形容詞アウオ段 18 基本連用形 7 \"代表表記:良い/よい 反義:形容詞:悪い/わるい\"\r\n",
      "柿 かき 柿 名詞 6 普通名詞 1 * 0 * 0 \"代表表記:柿/かき カテゴリ:植物 ドメイン:料理・食事\"\r\n",
      "食う くう 食う 動詞 2 * 0 子音動詞ワ行 12 基本形 2 \"代表表記:食う/くう ドメイン:料理・食事\"\r\n",
      "客 きゃく 客 名詞 6 普通名詞 1 * 0 * 0 \"代表表記:客/きゃく 漢字読み:音 カテゴリ:人 ドメイン:家庭・暮らし;ビジネス\"\r\n",
      "だ だ だ 判定詞 4 * 0 判定詞 25 基本形 2 NIL\r\n",
      "EOS\r\n",
      "犬 いぬ 犬 名詞 6 普通名詞 1 * 0 * 0 \"代表表記:犬/いぬ 漢字読み:訓 カテゴリ:動物\"\r\n",
      "も も も 助詞 9 副助詞 2 * 0 * 0 NIL\r\n",
      "歩けば あるけば 歩く 動詞 2 * 0 子音動詞カ行 2 基本条件形 7 \"代表表記:歩く/あるく\"\r\n",
      "棒 ぼう 棒 名詞 6 普通名詞 1 * 0 * 0 \"代表表記:棒/ぼう 漢字読み:音 カテゴリ:人工物-その他;形・模様\"\r\n",
      "に に に 助詞 9 格助詞 1 * 0 * 0 NIL\r\n",
      "当たる あたる 当たる 動詞 2 * 0 子音動詞ラ行 10 基本形 2 \"代表表記:当たる/あたる 自他動詞:他:当てる/あてる 反義:動詞:外れる/はずれる\"\r\n",
      "EOS\r\n"
     ]
    }
   ],
   "source": [
    "!cat {outfiles[0]}"
   ]
  },
  {
   "cell_type": "markdown",
   "metadata": {},
   "source": [
    "If we supply IDs of the texts to `jumanpp_batch`, then the ID information appears as a commend at the beginning of the analysis result of each text. IDs must have the same length as the input texts.\n",
    "IDs can help to identify the input text from which the result has been generated.\n",
    "\n",
    "IDs can be any type, but they are converted to strings during the process.\n",
    "IDs cannot contain spaces.\n",
    "\n",
    "*Note: IDs are not strictly needed since the results preserve the order of the input texts.*"
   ]
  },
  {
   "cell_type": "code",
   "execution_count": 5,
   "metadata": {},
   "outputs": [
    {
     "name": "stdout",
     "output_type": "stream",
     "text": [
      "Completed: 0/3 (0.0%) | 0.0 per sec | ETC: ??? (??? remaining)\n",
      "All jos are completed.\n",
      "# sumomo JUMAN++:1.02\n",
      "すもも すもも すもも 名詞 6 普通名詞 1 * 0 * 0 \"代表表記:酸桃/すもも 自動獲得:EN_Wiktionary\"\n",
      "@ すもも すもも すもも 名詞 6 普通名詞 1 * 0 * 0 \"自動獲得:テキスト\"\n",
      "も も も 助詞 9 副助詞 2 * 0 * 0 NIL\n",
      "もも もも もも 名詞 6 普通名詞 1 * 0 * 0 \"代表表記:股/もも カテゴリ:動物-部位\"\n",
      "@ もも もも もも 名詞 6 普通名詞 1 * 0 * 0 \"代表表記:桃/もも 漢字読み:訓 カテゴリ:植物;人工物-食べ物 ドメイン:料理・食事\"\n",
      "も も も 助詞 9 副助詞 2 * 0 * 0 NIL\n",
      "もも もも もも 名詞 6 普通名詞 1 * 0 * 0 \"代表表記:股/もも カテゴリ:動物-部位\"\n",
      "@ もも もも もも 名詞 6 普通名詞 1 * 0 * 0 \"代表表記:桃/もも 漢字読み:訓 カテゴリ:植物;人工物-食べ物 ドメイン:料理・食事\"\n",
      "の の の 助詞 9 接続助詞 3 * 0 * 0 NIL\n",
      "うち うち うち 名詞 6 副詞的名詞 9 * 0 * 0 \"代表表記:うち/うち\"\n",
      "EOS\n",
      "# kaki JUMAN++:1.02\n",
      "隣 となり 隣 名詞 6 普通名詞 1 * 0 * 0 \"代表表記:隣り/となり カテゴリ:場所-その他\"\n",
      "の の の 助詞 9 接続助詞 3 * 0 * 0 NIL\n",
      "客 きゃく 客 名詞 6 普通名詞 1 * 0 * 0 \"代表表記:客/きゃく 漢字読み:音 カテゴリ:人 ドメイン:家庭・暮らし;ビジネス\"\n",
      "は は は 助詞 9 副助詞 2 * 0 * 0 NIL\n",
      "よく よく よい 形容詞 3 * 0 イ形容詞アウオ段 18 基本連用形 7 \"代表表記:良い/よい 反義:形容詞:悪い/わるい\"\n",
      "柿 かき 柿 名詞 6 普通名詞 1 * 0 * 0 \"代表表記:柿/かき カテゴリ:植物 ドメイン:料理・食事\"\n",
      "食う くう 食う 動詞 2 * 0 子音動詞ワ行 12 基本形 2 \"代表表記:食う/くう ドメイン:料理・食事\"\n",
      "客 きゃく 客 名詞 6 普通名詞 1 * 0 * 0 \"代表表記:客/きゃく 漢字読み:音 カテゴリ:人 ドメイン:家庭・暮らし;ビジネス\"\n",
      "だ だ だ 判定詞 4 * 0 判定詞 25 基本形 2 NIL\n",
      "EOS\n",
      "# inu JUMAN++:1.02\n",
      "犬 いぬ 犬 名詞 6 普通名詞 1 * 0 * 0 \"代表表記:犬/いぬ 漢字読み:訓 カテゴリ:動物\"\n",
      "も も も 助詞 9 副助詞 2 * 0 * 0 NIL\n",
      "歩けば あるけば 歩く 動詞 2 * 0 子音動詞カ行 2 基本条件形 7 \"代表表記:歩く/あるく\"\n",
      "棒 ぼう 棒 名詞 6 普通名詞 1 * 0 * 0 \"代表表記:棒/ぼう 漢字読み:音 カテゴリ:人工物-その他;形・模様\"\n",
      "に に に 助詞 9 格助詞 1 * 0 * 0 NIL\n",
      "当たる あたる 当たる 動詞 2 * 0 子音動詞ラ行 10 基本形 2 \"代表表記:当たる/あたる 自他動詞:他:当てる/あてる 反義:動詞:外れる/はずれる\"\n",
      "EOS\n"
     ]
    }
   ],
   "source": [
    "texts = [\"すもももももももものうち\", \"隣の客はよく柿食う客だ\", \"犬も歩けば棒に当たる\"]\n",
    "ids = [\"sumomo\", \"kaki\", \"inu\"]\n",
    "outfiles = jumanpp_batch(texts, ids, outfile_base=\"results/simple_{}.txt\", show_progress=True)\n",
    "!cat {outfiles[0]}"
   ]
  },
  {
   "cell_type": "markdown",
   "metadata": {},
   "source": [
    "`parse_outfiles` takes a single or list of output files and returns a generator of `(id, token list)` pairs.\n",
    "Each token is a [namedtuple](https://docs.python.org/3/library/collections.html#collections.namedtuple) object containing a single line information from JUMAN++ results:\n",
    "\n",
    "1. `surface` 表層形\n",
    "1. `reading` 読み\n",
    "1. `headword` 見出し語\n",
    "1. `pos` 品詞大分類\n",
    "1. `pos_id` 品詞大分類 ID\n",
    "1. `pos2` 品詞細分類\n",
    "1. `pos2_id` 品詞細分類 ID\n",
    "1. `infltype` 活用型\n",
    "1. `infltype_id` 活用型 ID\n",
    "1. `inflform` 活用形\n",
    "1. `inflform_id` 活用形 ID\n",
    "1. `info` 意味情報\n",
    "1. `is_alternative`\n",
    "\n",
    "The first 12 information corresponds to the line information.\n",
    "The last one `is_alternative` indicates that this line shows an alternative candidate (i.e. the line starts with '@').\n",
    "By default, alternative tokens are omitted in the generator created by `parse_outfiles`.\n",
    "Set `skip_alternatives=False` to show them."
   ]
  },
  {
   "cell_type": "code",
   "execution_count": 6,
   "metadata": {},
   "outputs": [
    {
     "name": "stdout",
     "output_type": "stream",
     "text": [
      "sumomo\n",
      "[JumanppToken(surface='すもも', reading='すもも', headword='すもも', pos='名詞', pos_id='6', pos2='普通名詞', pos2_id='1', infltype='*', infltype_id='0', inflform='*', inflform_id='0', info='代表表記:酸桃/すもも 自動獲得:EN_Wiktionary', is_alternative=False), JumanppToken(surface='も', reading='も', headword='も', pos='助詞', pos_id='9', pos2='副助詞', pos2_id='2', infltype='*', infltype_id='0', inflform='*', inflform_id='0', info='NIL', is_alternative=False), JumanppToken(surface='もも', reading='もも', headword='もも', pos='名詞', pos_id='6', pos2='普通名詞', pos2_id='1', infltype='*', infltype_id='0', inflform='*', inflform_id='0', info='代表表記:股/もも カテゴリ:動物-部位', is_alternative=False), JumanppToken(surface='も', reading='も', headword='も', pos='助詞', pos_id='9', pos2='副助詞', pos2_id='2', infltype='*', infltype_id='0', inflform='*', inflform_id='0', info='NIL', is_alternative=False), JumanppToken(surface='もも', reading='もも', headword='もも', pos='名詞', pos_id='6', pos2='普通名詞', pos2_id='1', infltype='*', infltype_id='0', inflform='*', inflform_id='0', info='代表表記:股/もも カテゴリ:動物-部位', is_alternative=False), JumanppToken(surface='の', reading='の', headword='の', pos='助詞', pos_id='9', pos2='接続助詞', pos2_id='3', infltype='*', infltype_id='0', inflform='*', inflform_id='0', info='NIL', is_alternative=False), JumanppToken(surface='うち', reading='うち', headword='うち', pos='名詞', pos_id='6', pos2='副詞的名詞', pos2_id='9', infltype='*', infltype_id='0', inflform='*', inflform_id='0', info='代表表記:うち/うち', is_alternative=False)]\n",
      "***\n",
      "kaki\n",
      "[JumanppToken(surface='隣', reading='となり', headword='隣', pos='名詞', pos_id='6', pos2='普通名詞', pos2_id='1', infltype='*', infltype_id='0', inflform='*', inflform_id='0', info='代表表記:隣り/となり カテゴリ:場所-その他', is_alternative=False), JumanppToken(surface='の', reading='の', headword='の', pos='助詞', pos_id='9', pos2='接続助詞', pos2_id='3', infltype='*', infltype_id='0', inflform='*', inflform_id='0', info='NIL', is_alternative=False), JumanppToken(surface='客', reading='きゃく', headword='客', pos='名詞', pos_id='6', pos2='普通名詞', pos2_id='1', infltype='*', infltype_id='0', inflform='*', inflform_id='0', info='代表表記:客/きゃく 漢字読み:音 カテゴリ:人 ドメイン:家庭・暮らし;ビジネス', is_alternative=False), JumanppToken(surface='は', reading='は', headword='は', pos='助詞', pos_id='9', pos2='副助詞', pos2_id='2', infltype='*', infltype_id='0', inflform='*', inflform_id='0', info='NIL', is_alternative=False), JumanppToken(surface='よく', reading='よく', headword='よい', pos='形容詞', pos_id='3', pos2='*', pos2_id='0', infltype='イ形容詞アウオ段', infltype_id='18', inflform='基本連用形', inflform_id='7', info='代表表記:良い/よい 反義:形容詞:悪い/わるい', is_alternative=False), JumanppToken(surface='柿', reading='かき', headword='柿', pos='名詞', pos_id='6', pos2='普通名詞', pos2_id='1', infltype='*', infltype_id='0', inflform='*', inflform_id='0', info='代表表記:柿/かき カテゴリ:植物 ドメイン:料理・食事', is_alternative=False), JumanppToken(surface='食う', reading='くう', headword='食う', pos='動詞', pos_id='2', pos2='*', pos2_id='0', infltype='子音動詞ワ行', infltype_id='12', inflform='基本形', inflform_id='2', info='代表表記:食う/くう ドメイン:料理・食事', is_alternative=False), JumanppToken(surface='客', reading='きゃく', headword='客', pos='名詞', pos_id='6', pos2='普通名詞', pos2_id='1', infltype='*', infltype_id='0', inflform='*', inflform_id='0', info='代表表記:客/きゃく 漢字読み:音 カテゴリ:人 ドメイン:家庭・暮らし;ビジネス', is_alternative=False), JumanppToken(surface='だ', reading='だ', headword='だ', pos='判定詞', pos_id='4', pos2='*', pos2_id='0', infltype='判定詞', infltype_id='25', inflform='基本形', inflform_id='2', info='NIL', is_alternative=False)]\n",
      "***\n",
      "inu\n",
      "[JumanppToken(surface='犬', reading='いぬ', headword='犬', pos='名詞', pos_id='6', pos2='普通名詞', pos2_id='1', infltype='*', infltype_id='0', inflform='*', inflform_id='0', info='代表表記:犬/いぬ 漢字読み:訓 カテゴリ:動物', is_alternative=False), JumanppToken(surface='も', reading='も', headword='も', pos='助詞', pos_id='9', pos2='副助詞', pos2_id='2', infltype='*', infltype_id='0', inflform='*', inflform_id='0', info='NIL', is_alternative=False), JumanppToken(surface='歩けば', reading='あるけば', headword='歩く', pos='動詞', pos_id='2', pos2='*', pos2_id='0', infltype='子音動詞カ行', infltype_id='2', inflform='基本条件形', inflform_id='7', info='代表表記:歩く/あるく', is_alternative=False), JumanppToken(surface='棒', reading='ぼう', headword='棒', pos='名詞', pos_id='6', pos2='普通名詞', pos2_id='1', infltype='*', infltype_id='0', inflform='*', inflform_id='0', info='代表表記:棒/ぼう 漢字読み:音 カテゴリ:人工物-その他;形・模様', is_alternative=False), JumanppToken(surface='に', reading='に', headword='に', pos='助詞', pos_id='9', pos2='格助詞', pos2_id='1', infltype='*', infltype_id='0', inflform='*', inflform_id='0', info='NIL', is_alternative=False), JumanppToken(surface='当たる', reading='あたる', headword='当たる', pos='動詞', pos_id='2', pos2='*', pos2_id='0', infltype='子音動詞ラ行', infltype_id='10', inflform='基本形', inflform_id='2', info='代表表記:当たる/あたる 自他動詞:他:当てる/あてる 反義:動詞:外れる/はずれる', is_alternative=False)]\n",
      "***\n"
     ]
    }
   ],
   "source": [
    "for id_, tokens in parse_outfiles(outfiles):\n",
    "    print(id_)\n",
    "    print(tokens)\n",
    "    print(\"***\")"
   ]
  },
  {
   "cell_type": "markdown",
   "metadata": {},
   "source": [
    "There are several options to configure the parsing outputs:\n",
    "- `format_func`: Function to convert token\n",
    "- `pos_filter`: Specify the part-of-speeches to include\n",
    "- `filter_func`: Function to determine which token should be kept"
   ]
  },
  {
   "cell_type": "code",
   "execution_count": 7,
   "metadata": {},
   "outputs": [
    {
     "name": "stdout",
     "output_type": "stream",
     "text": [
      "sumomo\n",
      "['すもも (すもも)', 'もも (もも)', 'もも (もも)', 'うち (うち)']\n",
      "***\n",
      "kaki\n",
      "['隣 (となり)', '客 (きゃく)', '柿 (かき)', '食う (くう)', '客 (きゃく)']\n",
      "***\n",
      "inu\n",
      "['歩く (あるけば)', '棒 (ぼう)', '当たる (あたる)']\n",
      "***\n"
     ]
    }
   ],
   "source": [
    "for id_, tokens in parse_outfiles(outfiles,\n",
    "                                  format_func=lambda x: \"{} ({})\".format(x.headword, x.reading),\n",
    "                                  pos_filter=(\"名詞\", \"動詞\"),\n",
    "                                  filter_func=lambda x: x.surface != \"犬\"):\n",
    "    print(id_)\n",
    "    print(tokens)\n",
    "    print(\"***\")"
   ]
  },
  {
   "cell_type": "markdown",
   "metadata": {},
   "source": [
    "### Note on JUMAN++ 2.0\n",
    "\n",
    "We can use different version of JUMAN++ by giving the command name as `jumanpp_command`."
   ]
  },
  {
   "cell_type": "code",
   "execution_count": 8,
   "metadata": {},
   "outputs": [
    {
     "name": "stdout",
     "output_type": "stream",
     "text": [
      "Completed: 0/2 (0.0%) | 0.0 per sec | ETC: ??? (??? remaining)\n",
      "All jos are completed.\n",
      "# sumomo\n",
      "すもも すもも すもも 名詞 6 普通名詞 1 * 0 * 0 \"自動獲得:テキスト\"\n",
      "@ すもも すもも すもも 名詞 6 普通名詞 1 * 0 * 0 \"代表表記:酸桃/すもも 自動獲得:EN_Wiktionary\"\n",
      "も も も 助詞 9 副助詞 2 * 0 * 0 NIL\n",
      "もも もも もも 名詞 6 普通名詞 1 * 0 * 0 \"代表表記:桃/もも ドメイン:料理・食事 カテゴリ:植物;人工物-食べ物 漢字読み:訓\"\n",
      "@ もも もも もも 名詞 6 普通名詞 1 * 0 * 0 \"代表表記:股/もも カテゴリ:動物-部位\"\n",
      "も も も 助詞 9 副助詞 2 * 0 * 0 NIL\n",
      "もも もも もも 名詞 6 普通名詞 1 * 0 * 0 \"代表表記:桃/もも ドメイン:料理・食事 カテゴリ:植物;人工物-食べ物 漢字読み:訓\"\n",
      "@ もも もも もも 名詞 6 普通名詞 1 * 0 * 0 \"代表表記:股/もも カテゴリ:動物-部位\"\n",
      "の の の 助詞 9 接続助詞 3 * 0 * 0 NIL\n",
      "うち うち うち 名詞 6 副詞的名詞 9 * 0 * 0 \"代表表記:うち/うち\"\n",
      "EOS\n",
      "# emoji\n",
      "おめでとう おめでとう おめでとう 感動詞 12 * 0 * 0 * 0 \"代表表記:おめでとう/おめでとう\"\n",
      "🎉 🎉 🎉 特殊 1 記号 5 * 0 * 0 \"代表表記:🎉/* 絵文字種類:ACTIVITIES:EVENT 絵文字:PARTY_POPPER\"\n",
      "㊗️ ㊗️ ㊗️ 特殊 1 記号 5 * 0 * 0 \"代表表記:㊗️/* 絵文字種類:SYMBOLS:ALPHANUM 絵文字:JAPANESE_CONGRATULATIONS_BUTTON\"\n",
      "２３ ２３ ２３ 名詞 6 数詞 7 * 0 * 0 \"カテゴリ:数量 未知語:数字\"\n",
      "歳 さい 歳 接尾辞 14 名詞性名詞助数辞 3 * 0 * 0 \"代表表記:歳/さい 準内容語\"\n",
      "かぁ〜 か か 助詞 9 接続助詞 3 * 0 * 0 \"非標準表記:DPSL\"\n",
      "若い わかい 若い 形容詞 3 * 0 イ形容詞アウオ段 18 基本形 2 \"代表表記:若い/わかい\"\n",
      "〜 〜 〜 特殊 1 記号 5 * 0 * 0 NIL\n",
      "✧ ✧ ✧ 未定義語 15 その他 1 * 0 * 0 \"未知語:その他 品詞推定:特殊\"\n",
      "EOS\n"
     ]
    }
   ],
   "source": [
    "texts = [\"すもももももももものうち\", \"おめでとう🎉㊗️23歳かぁ〜若い〜✧\"]\n",
    "ids = [\"sumomo\", \"emoji\"]\n",
    "outfiles = jumanpp_batch(texts, ids, jumanpp_command=\"jumanpp2\",\n",
    "                         outfile_base=\"results/simple_{}.txt\", show_progress=True)\n",
    "!cat {outfiles[0]}"
   ]
  },
  {
   "cell_type": "code",
   "execution_count": 9,
   "metadata": {},
   "outputs": [
    {
     "name": "stdout",
     "output_type": "stream",
     "text": [
      "sumomo\n",
      "['すもも (すもも)', 'も (も)', 'もも (もも)', 'も (も)', 'もも (もも)', 'の (の)', 'うち (うち)']\n",
      "***\n",
      "emoji\n",
      "['おめでとう (おめでとう)', '🎉 (🎉)', '㊗️ (㊗️)', '２３ (２３)', '歳 (さい)', 'か (か)', '若い (わかい)', '〜 (〜)', '✧ (✧)']\n",
      "***\n"
     ]
    }
   ],
   "source": [
    "for id_, tokens in parse_outfiles(outfiles,\n",
    "                                  format_func=lambda x: \"{} ({})\".format(x.headword, x.reading)):\n",
    "    print(id_)\n",
    "    print(tokens)\n",
    "    print(\"***\")"
   ]
  },
  {
   "cell_type": "markdown",
   "metadata": {},
   "source": [
    "## Run JUMAN++ in parallel\n",
    "\n",
    "Set `num_procs` option (default: 1) of the `jumanpp_batch` to specify the number of concurrent processes to run.\n",
    "The input texts are roughly equally split into chunks and fed into separate JUMAN++ jobs."
   ]
  },
  {
   "cell_type": "code",
   "execution_count": 10,
   "metadata": {},
   "outputs": [
    {
     "name": "stdout",
     "output_type": "stream",
     "text": [
      "Completed: 0/3000 (0.0%) | 0.0 per sec | ETC: ??? (??? remaining)\n",
      "Completed: 558/3000 (18.6%) | 55.8 per sec | ETC: 2020-10-16 20:50:52 (0:00:44 remaining)\n",
      "Completed: 1102/3000 (36.7%) | 55.1 per sec | ETC: 2020-10-16 20:50:52 (0:00:34 remaining)\n",
      "Completed: 1641/3000 (54.7%) | 54.7 per sec | ETC: 2020-10-16 20:50:53 (0:00:25 remaining)\n",
      "Completed: 2241/3000 (74.7%) | 56.0 per sec | ETC: 2020-10-16 20:50:52 (0:00:14 remaining)\n",
      "Completed: 2814/3000 (93.8%) | 56.3 per sec | ETC: 2020-10-16 20:50:51 (0:00:03 remaining)\n",
      "All jos are completed.\n",
      "['results/p1_1.txt']\n",
      "CPU times: user 67.5 ms, sys: 11.1 ms, total: 78.6 ms\n",
      "Wall time: 1min\n"
     ]
    }
   ],
   "source": [
    "%%time\n",
    "# single process\n",
    "texts = [\"すもももももももものうち\", \"隣の客はよく柿食う客だ\", \"犬も歩けば棒に当たる\"] * 1000\n",
    "outfiles1 = jumanpp_batch(texts, num_procs=1, \n",
    "                          outfile_base=\"results/p1_{}.txt\", show_progress=True)\n",
    "print(outfiles1)"
   ]
  },
  {
   "cell_type": "code",
   "execution_count": 11,
   "metadata": {},
   "outputs": [
    {
     "name": "stdout",
     "output_type": "stream",
     "text": [
      "'results/p1_1.txt': 3000 EOS\n"
     ]
    }
   ],
   "source": [
    "# check the number of \"EOS\" in the files\n",
    "for f in outfiles1:\n",
    "    ct = 0\n",
    "    with open(f) as fin:\n",
    "        for line in fin:\n",
    "            if line.strip() == \"EOS\":\n",
    "                ct += 1\n",
    "    print(\"'{}': {} EOS\".format(f, ct))"
   ]
  },
  {
   "cell_type": "code",
   "execution_count": 12,
   "metadata": {},
   "outputs": [
    {
     "name": "stdout",
     "output_type": "stream",
     "text": [
      "Completed: 0/3000 (0.0%) | 0.0 per sec | ETC: ??? (??? remaining)\n",
      "Completed: 1923/3000 (64.1%) | 192.3 per sec | ETC: 2020-10-16 20:51:14 (0:00:06 remaining)\n",
      "All jos are completed.\n",
      "['results/simple_1.txt']\n",
      "CPU times: user 38.6 ms, sys: 20.9 ms, total: 59.5 ms\n",
      "Wall time: 20.1 s\n"
     ]
    }
   ],
   "source": [
    "%%time\n",
    "# mutiple process\n",
    "texts = [\"すもももももももものうち\", \"隣の客はよく柿食う客だ\", \"犬も歩けば棒に当たる\"] * 1000\n",
    "outfiles2 = jumanpp_batch(texts, num_procs=4, \n",
    "                          outfile_base=\"results/p4_{}.txt\", show_progress=True)\n",
    "print(outfiles)"
   ]
  },
  {
   "cell_type": "code",
   "execution_count": 13,
   "metadata": {},
   "outputs": [
    {
     "name": "stdout",
     "output_type": "stream",
     "text": [
      "'results/p4_1.txt': 750 EOS\n",
      "'results/p4_2.txt': 750 EOS\n",
      "'results/p4_3.txt': 750 EOS\n",
      "'results/p4_4.txt': 750 EOS\n"
     ]
    }
   ],
   "source": [
    "# check the number of \"EOS\" in the files\n",
    "for f in outfiles2:\n",
    "    ct = 0\n",
    "    with open(f) as fin:\n",
    "        for line in fin:\n",
    "            if line.strip() == \"EOS\":\n",
    "                ct += 1\n",
    "    print(\"'{}': {} EOS\".format(f, ct))"
   ]
  },
  {
   "cell_type": "code",
   "execution_count": 14,
   "metadata": {},
   "outputs": [
    {
     "name": "stdout",
     "output_type": "stream",
     "text": [
      "True\n"
     ]
    }
   ],
   "source": [
    "# proof that the outputs are identical\n",
    "o1 = \"\"\n",
    "for path in outfiles1:\n",
    "    with open(path, \"r\") as f:\n",
    "        o1 += f.read()\n",
    "\n",
    "o2 = \"\"\n",
    "for path in outfiles2:\n",
    "    with open(path, \"r\") as f:\n",
    "        o2 += f.read()\n",
    "\n",
    "print(o1==o2)"
   ]
  },
  {
   "cell_type": "code",
   "execution_count": 15,
   "metadata": {},
   "outputs": [
    {
     "name": "stdout",
     "output_type": "stream",
     "text": [
      "Start with num procs: 1\n",
      "Start with num procs: 2\n",
      "Start with num procs: 3\n",
      "Start with num procs: 4\n",
      "Start with num procs: 5\n",
      "Start with num procs: 6\n",
      "Start with num procs: 7\n",
      "Start with num procs: 8\n"
     ]
    }
   ],
   "source": [
    "# time comparison\n",
    "import os\n",
    "from datetime import datetime\n",
    "\n",
    "texts = [\"すもももももももものうち\", \"隣の客はよく柿食う客だ\", \"犬も歩けば棒に当たる\"] * 5000\n",
    "times = {}\n",
    "for np in range(1, 9):\n",
    "    print(\"Start with num procs:\", np)\n",
    "    t1 = datetime.now()\n",
    "    jumanpp_batch(texts, num_procs=np, \n",
    "                  outfile_base=\"results/p%s_{}.txt\" % np, show_progress=False)\n",
    "    t2 = datetime.now()\n",
    "    times[np] = (t2 - t1).seconds"
   ]
  },
  {
   "cell_type": "code",
   "execution_count": 16,
   "metadata": {},
   "outputs": [
    {
     "data": {
      "image/png": "[encoded data removed]",
      "text/plain": [
       "<Figure size 432x288 with 1 Axes>"
      ]
     },
     "metadata": {
      "needs_background": "light"
     },
     "output_type": "display_data"
    }
   ],
   "source": [
    "import matplotlib.pyplot as plt\n",
    "%matplotlib inline\n",
    "\n",
    "fig, ax = plt.subplots()\n",
    "num_procs = list(times.keys())\n",
    "time_elapsed = [times[np] for np in num_procs]\n",
    "ax.plot(num_procs, time_elapsed)\n",
    "ax.grid()"
   ]
  },
  {
   "cell_type": "code",
   "execution_count": null,
   "metadata": {},
   "outputs": [],
   "source": []
  }
 ],
 "metadata": {
  "kernelspec": {
   "display_name": "Python 3",
   "language": "python",
   "name": "python3"
  },
  "language_info": {
   "codemirror_mode": {
    "name": "ipython",
    "version": 3
   },
   "file_extension": ".py",
   "mimetype": "text/x-python",
   "name": "python",
   "nbconvert_exporter": "python",
   "pygments_lexer": "ipython3",
   "version": "3.8.2"
  }
 },
 "nbformat": 4,
 "nbformat_minor": 4
}
